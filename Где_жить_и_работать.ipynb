{
  "nbformat": 4,
  "nbformat_minor": 0,
  "metadata": {
    "colab": {
      "name": "Где жить и работать",
      "provenance": [],
      "collapsed_sections": [],
      "include_colab_link": true
    },
    "kernelspec": {
      "name": "ir",
      "display_name": "R"
    },
    "accelerator": "GPU"
  },
  "cells": [
    {
      "cell_type": "markdown",
      "metadata": {
        "id": "view-in-github",
        "colab_type": "text"
      },
      "source": [
        "<a href=\"https://colab.research.google.com/github/Simaregele/TrainProject/blob/master/%D0%93%D0%B4%D0%B5_%D0%B6%D0%B8%D1%82%D1%8C_%D0%B8_%D1%80%D0%B0%D0%B1%D0%BE%D1%82%D0%B0%D1%82%D1%8C.ipynb\" target=\"_parent\"><img src=\"https://colab.research.google.com/assets/colab-badge.svg\" alt=\"Open In Colab\"/></a>"
      ]
    },
    {
      "cell_type": "code",
      "metadata": {
        "id": "Z60PpIfIeF4Z",
        "colab_type": "code",
        "colab": {}
      },
      "source": [
        ""
      ],
      "execution_count": 0,
      "outputs": []
    },
    {
      "cell_type": "markdown",
      "metadata": {
        "id": "JhzhXo3G7pyV",
        "colab_type": "text"
      },
      "source": [
        "Ссылка на Джупитер https://colab.research.google.com/drive/1-TwQYZc_2utap3-cLH3dGGsTQW1gxT4v"
      ]
    },
    {
      "cell_type": "markdown",
      "metadata": {
        "id": "xu0_9J-h1ZmE",
        "colab_type": "text"
      },
      "source": [
        "Включим R"
      ]
    },
    {
      "cell_type": "code",
      "metadata": {
        "id": "rCEtur7fajGn",
        "colab_type": "code",
        "outputId": "c0e5f4f1-3011-4d36-d732-873ba59de25b",
        "colab": {
          "base_uri": "https://localhost:8080/",
          "height": 102
        }
      },
      "source": [
        "cat(system('python3 -c \"from google.colab import drive\\ndrive.mount()\"', intern=TRUE), sep='\\n', wait=TRUE)"
      ],
      "execution_count": 0,
      "outputs": [
        {
          "output_type": "stream",
          "text": [
            "Warning message in system(\"python3 -c \\\"from google.colab import drive\\ndrive.mount()\\\"\", :\n",
            "“running command 'python3 -c \"from google.colab import drive\n",
            "drive.mount()\"' had status 1”\n"
          ],
          "name": "stderr"
        },
        {
          "output_type": "stream",
          "text": [
            "\n",
            "TRUE\n"
          ],
          "name": "stdout"
        }
      ]
    },
    {
      "cell_type": "code",
      "metadata": {
        "id": "T6aH0TahbghZ",
        "colab_type": "code",
        "colab": {}
      },
      "source": [
        "?system"
      ],
      "execution_count": 0,
      "outputs": []
    },
    {
      "cell_type": "code",
      "metadata": {
        "id": "3o11KxDzyC0g",
        "colab_type": "code",
        "outputId": "59403dc5-ffc3-4965-aaa7-62d06b2c868b",
        "colab": {
          "base_uri": "https://localhost:8080/",
          "height": 476
        }
      },
      "source": [
        "install.packages(\"rgl\", repos = \"http://cran.rstudio.com/\")\n",
        "install.packages(\"ConsRank\", repos = \"http://cran.rstudio.com/\")\n",
        "library(\"ConsRank\")"
      ],
      "execution_count": 0,
      "outputs": [
        {
          "output_type": "stream",
          "text": [
            "Installing package into ‘/usr/local/lib/R/site-library’\n",
            "(as ‘lib’ is unspecified)\n",
            "\n",
            "also installing the dependencies ‘miniUI’, ‘webshot’, ‘manipulateWidget’\n",
            "\n",
            "\n",
            "Installing package into ‘/usr/local/lib/R/site-library’\n",
            "(as ‘lib’ is unspecified)\n",
            "\n",
            "also installing the dependencies ‘XML’, ‘data.table’, ‘rlist’, ‘proxy’, ‘gtools’\n",
            "\n",
            "\n",
            "Loading required package: rgl\n",
            "\n",
            "Warning message in rgl.init(initValue, onlyNULL):\n",
            "“RGL: unable to open X11 display”\n",
            "Warning message:\n",
            "“'rgl_init' failed, running with rgl.useNULL = TRUE”\n",
            "\n",
            "Attaching package: ‘ConsRank’\n",
            "\n",
            "\n",
            "The following object is masked from ‘package:base’:\n",
            "\n",
            "    labels\n",
            "\n",
            "\n"
          ],
          "name": "stderr"
        }
      ]
    },
    {
      "cell_type": "code",
      "metadata": {
        "id": "SPYGePw53fWq",
        "colab_type": "code",
        "colab": {}
      },
      "source": [
        "system(\"add-apt-repository -y ppa:marutter/rrutter\")\n",
        "system(\"add-apt-repository -y ppa:marutter/c2d4u\")\n",
        "system(\"apt-get update\")\n",
        "system(\"apt install -y r-cran-rstan\")"
      ],
      "execution_count": 0,
      "outputs": []
    },
    {
      "cell_type": "code",
      "metadata": {
        "id": "1IzjHJFxv01f",
        "colab_type": "code",
        "outputId": "7760a80b-736e-46d0-e079-ad97e7b0e036",
        "colab": {
          "base_uri": "https://localhost:8080/",
          "height": 170
        }
      },
      "source": [
        "install.packages('ggmap')\n",
        "install.packages('codetools')"
      ],
      "execution_count": 0,
      "outputs": [
        {
          "output_type": "stream",
          "text": [
            "Installing package into ‘/usr/local/lib/R/site-library’\n",
            "(as ‘lib’ is unspecified)\n",
            "\n",
            "also installing the dependencies ‘RgoogleMaps’, ‘png’, ‘rjson’, ‘jpeg’, ‘bitops’\n",
            "\n",
            "\n",
            "Installing package into ‘/usr/local/lib/R/site-library’\n",
            "(as ‘lib’ is unspecified)\n",
            "\n"
          ],
          "name": "stderr"
        }
      ]
    },
    {
      "cell_type": "code",
      "metadata": {
        "id": "LGCwX-x-x22X",
        "colab_type": "code",
        "outputId": "9f69d824-04d2-482f-ff6d-1da40f38ef53",
        "colab": {
          "base_uri": "https://localhost:8080/",
          "height": 119
        }
      },
      "source": [
        "library(\"ggmap\")"
      ],
      "execution_count": 0,
      "outputs": [
        {
          "output_type": "stream",
          "text": [
            "Loading required package: ggplot2\n",
            "\n",
            "Google's Terms of Service: https://cloud.google.com/maps-platform/terms/.\n",
            "\n",
            "Please cite ggmap if you use it! See citation(\"ggmap\") for details.\n",
            "\n"
          ],
          "name": "stderr"
        }
      ]
    },
    {
      "cell_type": "code",
      "metadata": {
        "id": "C8eJtqSbbJVX",
        "colab_type": "code",
        "outputId": "3edcde46-52c5-4ee0-b0f2-ce772c565636",
        "colab": {
          "base_uri": "https://localhost:8080/",
          "height": 119
        }
      },
      "source": [
        "#https://www.rdocumentation.org/packages/googledrive/versions/1.0.0\n",
        "#g drive APi\n",
        "\n",
        "install.packages(\"googledrive\")"
      ],
      "execution_count": 0,
      "outputs": [
        {
          "output_type": "stream",
          "text": [
            "Installing package into ‘/usr/local/lib/R/site-library’\n",
            "(as ‘lib’ is unspecified)\n",
            "\n",
            "also installing the dependency ‘gargle’\n",
            "\n",
            "\n"
          ],
          "name": "stderr"
        }
      ]
    },
    {
      "cell_type": "code",
      "metadata": {
        "id": "P5eEhxqAbeSL",
        "colab_type": "code",
        "colab": {}
      },
      "source": [
        "library(\"googledrive\")"
      ],
      "execution_count": 0,
      "outputs": []
    },
    {
      "cell_type": "markdown",
      "metadata": {
        "id": "YK294P9p24lX",
        "colab_type": "text"
      },
      "source": [
        "##Первое что хочу сделать это связать данные по аренде и данные с HH по вакансиям аналитик данных"
      ]
    },
    {
      "cell_type": "markdown",
      "metadata": {
        "id": "-SVQcwZ43Yyh",
        "colab_type": "text"
      },
      "source": [
        "Нам нужны данные!\n"
      ]
    },
    {
      "cell_type": "markdown",
      "metadata": {
        "id": "P1y2FGpxXknx",
        "colab_type": "text"
      },
      "source": [
        "Вначале я выбрал квартиры или студи в Москве, на портале ЦИАН, на самом сайте есть функция сохранения поиска в эесель таблицу, я сохранил, изатем в экселе перевел и экселя в CSV"
      ]
    },
    {
      "cell_type": "code",
      "metadata": {
        "id": "CPiquwa6XSZc",
        "colab_type": "code",
        "outputId": "b745620c-86b3-4d0f-ce91-2ece1436952e",
        "colab": {
          "base_uri": "https://localhost:8080/",
          "height": 173
        }
      },
      "source": [
        "cian_data <- read.csv(drive_get(\"https://drive.google.com/open?id=156G4sBu2u3g6uhk_WABKaH-8X5Cn97a8\"))"
      ],
      "execution_count": 0,
      "outputs": [
        {
          "output_type": "stream",
          "text": [
            "Waiting for authentication in browser...\n",
            "\n",
            "Press Esc/Ctrl + C to abort\n",
            "\n",
            "Please point your browser to the following url: \n",
            "\n",
            "https://accounts.google.com/o/oauth2/auth?client_id=603366585132-0l3n5tr582q443rnomebdeeo0156b2bc.apps.googleusercontent.com&scope=https%3A%2F%2Fwww.googleapis.com%2Fauth%2Fdrive%20https%3A%2F%2Fwww.googleapis.com%2Fauth%2Fuserinfo.email&redirect_uri=http%3A%2F%2Flocalhost%3A1410%2F&response_type=code&state=IObWBFnMIQ\n",
            "\n"
          ],
          "name": "stderr"
        }
      ]
    },
    {
      "cell_type": "code",
      "metadata": {
        "id": "5pFKELVB3XDv",
        "colab_type": "code",
        "colab": {}
      },
      "source": [
        ""
      ],
      "execution_count": 0,
      "outputs": []
    }
  ]
}