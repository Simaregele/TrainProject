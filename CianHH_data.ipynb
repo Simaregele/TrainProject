{
  "nbformat": 4,
  "nbformat_minor": 0,
  "metadata": {
    "colab": {
      "name": "CianHH data",
      "provenance": [],
      "authorship_tag": "ABX9TyM5QoiZxikvvTsJx6xpIDKi",
      "include_colab_link": true
    },
    "kernelspec": {
      "name": "python3",
      "display_name": "Python 3"
    }
  },
  "cells": [
    {
      "cell_type": "markdown",
      "metadata": {
        "id": "view-in-github",
        "colab_type": "text"
      },
      "source": [
        "<a href=\"https://colab.research.google.com/github/Simaregele/TrainProject/blob/master/CianHH_data.ipynb\" target=\"_parent\"><img src=\"https://colab.research.google.com/assets/colab-badge.svg\" alt=\"Open In Colab\"/></a>"
      ]
    },
    {
      "cell_type": "code",
      "metadata": {
        "id": "J7qCIV3-KstL",
        "colab_type": "code",
        "colab": {}
      },
      "source": [
        "from bs4 import BeautifulSoup\n",
        "import requests\n",
        "import pandas as pd\n",
        "import matplotlib.pyplot as plt\n",
        "import numpy as np\n"
      ],
      "execution_count": 0,
      "outputs": []
    },
    {
      "cell_type": "code",
      "metadata": {
        "id": "PmbIzsgbwZwf",
        "colab_type": "code",
        "colab": {}
      },
      "source": [
        "df = pd.DataFrame() \n",
        "main_df = pd.DataFrame() "
      ],
      "execution_count": 0,
      "outputs": []
    },
    {
      "cell_type": "code",
      "metadata": {
        "id": "WCq-WQsDMHDi",
        "colab_type": "code",
        "colab": {
          "base_uri": "https://localhost:8080/",
          "height": 918
        },
        "outputId": "96f86e82-95a5-4a29-8fb9-87d01bf9f830"
      },
      "source": [
        "# генерим странички по квартирам: студия или однушка, аренда на длительный срок москва\n",
        "# это список ЮРЛ страниц с карчтоками\n",
        "url_list = []\n",
        "for i in range(1, 54):\n",
        "  url = \"https://www.cian.ru/cat.php?deal_type=rent&engine_version=2&offer_type=flat&p={}&region=1&room1=1&room9=1&type=4\".format(str(i))\n",
        "  print(url)\n",
        "  url_list.append(url)"
      ],
      "execution_count": 2,
      "outputs": [
        {
          "output_type": "stream",
          "text": [
            "https://www.cian.ru/cat.php?deal_type=rent&engine_version=2&offer_type=flat&p=1&region=1&room1=1&room9=1&type=4\n",
            "https://www.cian.ru/cat.php?deal_type=rent&engine_version=2&offer_type=flat&p=2&region=1&room1=1&room9=1&type=4\n",
            "https://www.cian.ru/cat.php?deal_type=rent&engine_version=2&offer_type=flat&p=3&region=1&room1=1&room9=1&type=4\n",
            "https://www.cian.ru/cat.php?deal_type=rent&engine_version=2&offer_type=flat&p=4&region=1&room1=1&room9=1&type=4\n",
            "https://www.cian.ru/cat.php?deal_type=rent&engine_version=2&offer_type=flat&p=5&region=1&room1=1&room9=1&type=4\n",
            "https://www.cian.ru/cat.php?deal_type=rent&engine_version=2&offer_type=flat&p=6&region=1&room1=1&room9=1&type=4\n",
            "https://www.cian.ru/cat.php?deal_type=rent&engine_version=2&offer_type=flat&p=7&region=1&room1=1&room9=1&type=4\n",
            "https://www.cian.ru/cat.php?deal_type=rent&engine_version=2&offer_type=flat&p=8&region=1&room1=1&room9=1&type=4\n",
            "https://www.cian.ru/cat.php?deal_type=rent&engine_version=2&offer_type=flat&p=9&region=1&room1=1&room9=1&type=4\n",
            "https://www.cian.ru/cat.php?deal_type=rent&engine_version=2&offer_type=flat&p=10&region=1&room1=1&room9=1&type=4\n",
            "https://www.cian.ru/cat.php?deal_type=rent&engine_version=2&offer_type=flat&p=11&region=1&room1=1&room9=1&type=4\n",
            "https://www.cian.ru/cat.php?deal_type=rent&engine_version=2&offer_type=flat&p=12&region=1&room1=1&room9=1&type=4\n",
            "https://www.cian.ru/cat.php?deal_type=rent&engine_version=2&offer_type=flat&p=13&region=1&room1=1&room9=1&type=4\n",
            "https://www.cian.ru/cat.php?deal_type=rent&engine_version=2&offer_type=flat&p=14&region=1&room1=1&room9=1&type=4\n",
            "https://www.cian.ru/cat.php?deal_type=rent&engine_version=2&offer_type=flat&p=15&region=1&room1=1&room9=1&type=4\n",
            "https://www.cian.ru/cat.php?deal_type=rent&engine_version=2&offer_type=flat&p=16&region=1&room1=1&room9=1&type=4\n",
            "https://www.cian.ru/cat.php?deal_type=rent&engine_version=2&offer_type=flat&p=17&region=1&room1=1&room9=1&type=4\n",
            "https://www.cian.ru/cat.php?deal_type=rent&engine_version=2&offer_type=flat&p=18&region=1&room1=1&room9=1&type=4\n",
            "https://www.cian.ru/cat.php?deal_type=rent&engine_version=2&offer_type=flat&p=19&region=1&room1=1&room9=1&type=4\n",
            "https://www.cian.ru/cat.php?deal_type=rent&engine_version=2&offer_type=flat&p=20&region=1&room1=1&room9=1&type=4\n",
            "https://www.cian.ru/cat.php?deal_type=rent&engine_version=2&offer_type=flat&p=21&region=1&room1=1&room9=1&type=4\n",
            "https://www.cian.ru/cat.php?deal_type=rent&engine_version=2&offer_type=flat&p=22&region=1&room1=1&room9=1&type=4\n",
            "https://www.cian.ru/cat.php?deal_type=rent&engine_version=2&offer_type=flat&p=23&region=1&room1=1&room9=1&type=4\n",
            "https://www.cian.ru/cat.php?deal_type=rent&engine_version=2&offer_type=flat&p=24&region=1&room1=1&room9=1&type=4\n",
            "https://www.cian.ru/cat.php?deal_type=rent&engine_version=2&offer_type=flat&p=25&region=1&room1=1&room9=1&type=4\n",
            "https://www.cian.ru/cat.php?deal_type=rent&engine_version=2&offer_type=flat&p=26&region=1&room1=1&room9=1&type=4\n",
            "https://www.cian.ru/cat.php?deal_type=rent&engine_version=2&offer_type=flat&p=27&region=1&room1=1&room9=1&type=4\n",
            "https://www.cian.ru/cat.php?deal_type=rent&engine_version=2&offer_type=flat&p=28&region=1&room1=1&room9=1&type=4\n",
            "https://www.cian.ru/cat.php?deal_type=rent&engine_version=2&offer_type=flat&p=29&region=1&room1=1&room9=1&type=4\n",
            "https://www.cian.ru/cat.php?deal_type=rent&engine_version=2&offer_type=flat&p=30&region=1&room1=1&room9=1&type=4\n",
            "https://www.cian.ru/cat.php?deal_type=rent&engine_version=2&offer_type=flat&p=31&region=1&room1=1&room9=1&type=4\n",
            "https://www.cian.ru/cat.php?deal_type=rent&engine_version=2&offer_type=flat&p=32&region=1&room1=1&room9=1&type=4\n",
            "https://www.cian.ru/cat.php?deal_type=rent&engine_version=2&offer_type=flat&p=33&region=1&room1=1&room9=1&type=4\n",
            "https://www.cian.ru/cat.php?deal_type=rent&engine_version=2&offer_type=flat&p=34&region=1&room1=1&room9=1&type=4\n",
            "https://www.cian.ru/cat.php?deal_type=rent&engine_version=2&offer_type=flat&p=35&region=1&room1=1&room9=1&type=4\n",
            "https://www.cian.ru/cat.php?deal_type=rent&engine_version=2&offer_type=flat&p=36&region=1&room1=1&room9=1&type=4\n",
            "https://www.cian.ru/cat.php?deal_type=rent&engine_version=2&offer_type=flat&p=37&region=1&room1=1&room9=1&type=4\n",
            "https://www.cian.ru/cat.php?deal_type=rent&engine_version=2&offer_type=flat&p=38&region=1&room1=1&room9=1&type=4\n",
            "https://www.cian.ru/cat.php?deal_type=rent&engine_version=2&offer_type=flat&p=39&region=1&room1=1&room9=1&type=4\n",
            "https://www.cian.ru/cat.php?deal_type=rent&engine_version=2&offer_type=flat&p=40&region=1&room1=1&room9=1&type=4\n",
            "https://www.cian.ru/cat.php?deal_type=rent&engine_version=2&offer_type=flat&p=41&region=1&room1=1&room9=1&type=4\n",
            "https://www.cian.ru/cat.php?deal_type=rent&engine_version=2&offer_type=flat&p=42&region=1&room1=1&room9=1&type=4\n",
            "https://www.cian.ru/cat.php?deal_type=rent&engine_version=2&offer_type=flat&p=43&region=1&room1=1&room9=1&type=4\n",
            "https://www.cian.ru/cat.php?deal_type=rent&engine_version=2&offer_type=flat&p=44&region=1&room1=1&room9=1&type=4\n",
            "https://www.cian.ru/cat.php?deal_type=rent&engine_version=2&offer_type=flat&p=45&region=1&room1=1&room9=1&type=4\n",
            "https://www.cian.ru/cat.php?deal_type=rent&engine_version=2&offer_type=flat&p=46&region=1&room1=1&room9=1&type=4\n",
            "https://www.cian.ru/cat.php?deal_type=rent&engine_version=2&offer_type=flat&p=47&region=1&room1=1&room9=1&type=4\n",
            "https://www.cian.ru/cat.php?deal_type=rent&engine_version=2&offer_type=flat&p=48&region=1&room1=1&room9=1&type=4\n",
            "https://www.cian.ru/cat.php?deal_type=rent&engine_version=2&offer_type=flat&p=49&region=1&room1=1&room9=1&type=4\n",
            "https://www.cian.ru/cat.php?deal_type=rent&engine_version=2&offer_type=flat&p=50&region=1&room1=1&room9=1&type=4\n",
            "https://www.cian.ru/cat.php?deal_type=rent&engine_version=2&offer_type=flat&p=51&region=1&room1=1&room9=1&type=4\n",
            "https://www.cian.ru/cat.php?deal_type=rent&engine_version=2&offer_type=flat&p=52&region=1&room1=1&room9=1&type=4\n",
            "https://www.cian.ru/cat.php?deal_type=rent&engine_version=2&offer_type=flat&p=53&region=1&room1=1&room9=1&type=4\n"
          ],
          "name": "stdout"
        }
      ]
    },
    {
      "cell_type": "code",
      "metadata": {
        "id": "NHAWDAs9Mn_o",
        "colab_type": "code",
        "colab": {}
      },
      "source": [
        "new_page = requests.get(url_list[0])"
      ],
      "execution_count": 0,
      "outputs": []
    },
    {
      "cell_type": "code",
      "metadata": {
        "id": "_0K1atGtNToP",
        "colab_type": "code",
        "outputId": "7c2449b1-4d7a-4fce-8dc3-7da6200c0b28",
        "colab": {
          "base_uri": "https://localhost:8080/",
          "height": 34
        }
      },
      "source": [
        "new_page"
      ],
      "execution_count": 4,
      "outputs": [
        {
          "output_type": "execute_result",
          "data": {
            "text/plain": [
              "<Response [200]>"
            ]
          },
          "metadata": {
            "tags": []
          },
          "execution_count": 4
        }
      ]
    },
    {
      "cell_type": "code",
      "metadata": {
        "id": "yjqPfNNNNi5_",
        "colab_type": "code",
        "colab": {}
      },
      "source": [
        "soup = BeautifulSoup(new_page.text, 'html.parser')"
      ],
      "execution_count": 0,
      "outputs": []
    },
    {
      "cell_type": "code",
      "metadata": {
        "id": "6KUSMQTfNnox",
        "colab_type": "code",
        "colab": {}
      },
      "source": [
        "card = soup.find_all(class_='_93444fe79c--card--_yguQ')[0]\n",
        "card_title = soup.find_all('a', class_=\"c6e8ba5398--header--1fV2A\")"
      ],
      "execution_count": 0,
      "outputs": []
    },
    {
      "cell_type": "code",
      "metadata": {
        "id": "Yh9_ChBOKWKB",
        "colab_type": "code",
        "colab": {
          "base_uri": "https://localhost:8080/",
          "height": 34
        },
        "outputId": "7af375ea-d469-4871-b636-10f8c50e30e1"
      },
      "source": [
        "# Берем ЮРЛ карточки\n",
        "def get_cards_url(card):\n",
        "  card_url = card.find('a', class_=\"c6e8ba5398--header--1fV2A\", href=True)['href']\n",
        "  return card_url\n",
        "get_cards_url(card)"
      ],
      "execution_count": 205,
      "outputs": [
        {
          "output_type": "execute_result",
          "data": {
            "text/plain": [
              "'https://www.cian.ru/rent/flat/224019372/'"
            ]
          },
          "metadata": {
            "tags": []
          },
          "execution_count": 205
        }
      ]
    },
    {
      "cell_type": "code",
      "metadata": {
        "id": "gSdrET3lK0bg",
        "colab_type": "code",
        "colab": {}
      },
      "source": [
        "def get_page_from_card(card_url):\n",
        "  # переходим на страниwу и парсим все данные со страницы\n",
        "  get_page = requests.get(card_url)\n",
        "  card_page = BeautifulSoup(get_page.text, 'html.parser')\n",
        "  return card_page"
      ],
      "execution_count": 0,
      "outputs": []
    },
    {
      "cell_type": "code",
      "metadata": {
        "id": "l4hudEhtNGOw",
        "colab_type": "code",
        "colab": {}
      },
      "source": [
        "#извлек название и адрес\n",
        "title = card_page.find('h1', class_=\"a10a3f92e9--title--2Widg\").get_text()\n",
        "adress = card_page.find('address', class_= \"a10a3f92e9--address--140Ec\").get_text()\n",
        "df['title'] = [title]\n",
        "df['adress'] = [adress] "
      ],
      "execution_count": 0,
      "outputs": []
    },
    {
      "cell_type": "code",
      "metadata": {
        "id": "K1mFJueC1CX5",
        "colab_type": "code",
        "colab": {}
      },
      "source": [
        "# станции метро\n",
        "metro_station = card_page.find_all('li', class_=\"a10a3f92e9--underground--kONgx\")\n",
        "m_stations = []\n",
        "for i in metro_station:\n",
        "  m_stations.append(i.get_text())\n",
        "\n",
        "df['metro'] = [m_stations]\n"
      ],
      "execution_count": 0,
      "outputs": []
    },
    {
      "cell_type": "code",
      "metadata": {
        "id": "dGpSniSl1EKK",
        "colab_type": "code",
        "colab": {
          "base_uri": "https://localhost:8080/",
          "height": 68
        },
        "outputId": "d0357cd8-d5fd-447e-d91e-bc5f7afc335e"
      },
      "source": [
        "m_stations"
      ],
      "execution_count": 200,
      "outputs": [
        {
          "output_type": "execute_result",
          "data": {
            "text/plain": [
              "['Бауманская ⋅  5 мин. пешком',\n",
              " 'Красносельская ⋅  10 мин. пешком',\n",
              " 'Комсомольская ⋅  19 мин. пешком']"
            ]
          },
          "metadata": {
            "tags": []
          },
          "execution_count": 200
        }
      ]
    },
    {
      "cell_type": "code",
      "metadata": {
        "id": "DIPBXlllD0el",
        "colab_type": "code",
        "colab": {}
      },
      "source": [
        "# остальная инфа \n",
        "all_apartments_info = card_page.find_all('div', class_=\"a10a3f92e9--info-text--2uhvD\")\n",
        "apartments_area = apartments_info[0].get_text()\n",
        "living_apartmetn_area = apartments_info[1].get_text()\n",
        "kitche_area = apartments_info[2].get_text()\n",
        "apartments_level = apartments_info[3].get_text()\n",
        "year_of_construction = apartments_info[4].get_text()\n",
        "apartsments_text_subscription = card_page.find('p', class_=\"a10a3f92e9--description-text--1_Lup\").get_text()\n",
        "df['apartments_area'] = [apartments_area]\n",
        "df['living_apartmetn_area'] = [living_apartmetn_area]\n",
        "df['kitche_area'] = [kitche_area]\n",
        "df['apartments_level'] = [apartments_level]\n",
        "df['year_of_construction'] = [year_of_construction]\n",
        "df['apartsments_text_subscription'] = [apartsments_text_subscription]"
      ],
      "execution_count": 0,
      "outputs": []
    },
    {
      "cell_type": "code",
      "metadata": {
        "id": "wTzgK-BXFroU",
        "colab_type": "code",
        "colab": {
          "base_uri": "https://localhost:8080/",
          "height": 54
        },
        "outputId": "5a4fbc57-560d-42cb-b942-176932660ba8"
      },
      "source": [
        "apartsments_text_subscription"
      ],
      "execution_count": 39,
      "outputs": [
        {
          "output_type": "execute_result",
          "data": {
            "text/plain": [
              "'Покажу оперативно! ЖК \"Трибека\", корпус Fulton Дом бизнес-класса с своей территорией и круглосуточной охраной. Вся инфраструтура- магазины, рестораны, химчистка, салоны красоты, фитнес- центр на территории комплекса. Апартамент студийного плана - гостиная совмещена с кухней, гардеробная комната, санузел совмещенный. Мебель, сантехника, бытовая техника премиум класса. Домашний кинотеатр с супер звуком. Полы плитка, натуральный дуб, встроенные в пол отопительные конвекторы с возможностью регулирования температуры, кондиционер. Установлен высокоскоростной интернет роутер. Есть все необходимое для жизни, включая посуду и постельное белье'"
            ]
          },
          "metadata": {
            "tags": []
          },
          "execution_count": 39
        }
      ]
    },
    {
      "cell_type": "code",
      "metadata": {
        "id": "9Gyj1dXD0_3i",
        "colab_type": "code",
        "colab": {}
      },
      "source": [
        "additional_appartments_info = card_page.find('ul', class_=\"a10a3f92e9--container--L-EIV\")\n",
        "appartments_features = []\n",
        "for i in additional_appartments_info:\n",
        "  appartments_features.append(i.get_text())\n",
        "\n",
        "df['appartments_features'] = [appartments_features]\n"
      ],
      "execution_count": 0,
      "outputs": []
    },
    {
      "cell_type": "code",
      "metadata": {
        "id": "EqFc4SvaH5Ox",
        "colab_type": "code",
        "colab": {}
      },
      "source": [
        "# всякие штуки типо тип квартиры, площадь, какой санузел, тип ремонта\n",
        "additional_features = []\n",
        "for i in card_page.find_all(class_=\"a10a3f92e9--value--3Ftu5\"):\n",
        "  additional_features.append(i.get_text())\n",
        "\n",
        "df['additional_features'] = [additional_features]"
      ],
      "execution_count": 0,
      "outputs": []
    },
    {
      "cell_type": "code",
      "metadata": {
        "id": "-uRUyLCLeKC9",
        "colab_type": "code",
        "colab": {}
      },
      "source": [
        "# цена аренды\n",
        "rent_price = card_page.find(class_=\"a10a3f92e9--price_value--1iPpd\").get_text().replace(u'\\xa0', ' ')"
      ],
      "execution_count": 0,
      "outputs": []
    },
    {
      "cell_type": "code",
      "metadata": {
        "id": "ZabXk29LejOl",
        "colab_type": "code",
        "colab": {}
      },
      "source": [
        "df['rent_price'] = [rent_price]"
      ],
      "execution_count": 0,
      "outputs": []
    },
    {
      "cell_type": "code",
      "metadata": {
        "id": "n5rUNhP4fx_i",
        "colab_type": "code",
        "colab": {}
      },
      "source": [
        "rent_price_info = card_page.find(class_=\"a10a3f92e9--more_price_rent---5hwY\").get_text().replace(u'\\xa0', ' ')"
      ],
      "execution_count": 0,
      "outputs": []
    },
    {
      "cell_type": "code",
      "metadata": {
        "id": "9CRwZ6Xbhl8h",
        "colab_type": "code",
        "colab": {}
      },
      "source": [
        "df['rent_price_info'] = rent_price_info"
      ],
      "execution_count": 0,
      "outputs": []
    },
    {
      "cell_type": "code",
      "metadata": {
        "id": "syw9hgzUiDLF",
        "colab_type": "code",
        "colab": {}
      },
      "source": [
        "additional_payment_info = card_page.find(class_=\"a10a3f92e9--description--2xRVn\").get_text().replace(u'\\xa0', ' ').split(\",\")"
      ],
      "execution_count": 0,
      "outputs": []
    },
    {
      "cell_type": "code",
      "metadata": {
        "id": "IcPFIIt5iMLy",
        "colab_type": "code",
        "colab": {}
      },
      "source": [
        "df['additional_payment_info'] = [additional_payment_info]"
      ],
      "execution_count": 0,
      "outputs": []
    },
    {
      "cell_type": "code",
      "metadata": {
        "id": "aqIo84dFkcfy",
        "colab_type": "code",
        "colab": {}
      },
      "source": [
        "# телефоны\n",
        "phones = card_page.find(class_=\"a10a3f92e9--container--35iPF\").get_text().replace('Показать телефон', '').replace('Написать сообщение', '').split('+')"
      ],
      "execution_count": 0,
      "outputs": []
    },
    {
      "cell_type": "code",
      "metadata": {
        "id": "tgMSmev0krM1",
        "colab_type": "code",
        "colab": {}
      },
      "source": [
        "df['phones'] = [phones]"
      ],
      "execution_count": 0,
      "outputs": []
    },
    {
      "cell_type": "code",
      "metadata": {
        "id": "TtoDcIVtnfxv",
        "colab_type": "code",
        "colab": {}
      },
      "source": [
        "# название агентства\n",
        "agency_name = card_page.find('h2', class_=\"a10a3f92e9--title--2gUWg\").get_text()"
      ],
      "execution_count": 0,
      "outputs": []
    },
    {
      "cell_type": "code",
      "metadata": {
        "id": "mOms1Vzqnw44",
        "colab_type": "code",
        "colab": {}
      },
      "source": [
        "df['agency_name'] = [agency_name]"
      ],
      "execution_count": 0,
      "outputs": []
    },
    {
      "cell_type": "code",
      "metadata": {
        "id": "4tEWOBSCrBA5",
        "colab_type": "code",
        "colab": {}
      },
      "source": [
        "import datetime"
      ],
      "execution_count": 0,
      "outputs": []
    },
    {
      "cell_type": "code",
      "metadata": {
        "id": "Zq3fC4Ntn-ws",
        "colab_type": "code",
        "colab": {}
      },
      "source": [
        "upload_d_t = card_page.find(class_=\"a10a3f92e9--container--3nJ0d\").get_text()\n",
        "view_statistics = card_page.find(class_=\"a10a3f92e9--link--1t8n1 a10a3f92e9--link--2mJJk\").get_text()\n",
        "if \"сегодня\" in upload_d_t:\n",
        "  date = str(datetime.datetime.today())\n",
        "elif 'вчера' in upload_d_t:\n",
        "  date = str(datetime.datetime.today())\n",
        "upload_d_t = [date, upload_d_t]\n",
        "df['upload_d_t'] = [upload_d_t]"
      ],
      "execution_count": 0,
      "outputs": []
    },
    {
      "cell_type": "code",
      "metadata": {
        "id": "2NaE5RMno0WT",
        "colab_type": "code",
        "colab": {}
      },
      "source": [
        ""
      ],
      "execution_count": 0,
      "outputs": []
    },
    {
      "cell_type": "code",
      "metadata": {
        "id": "rTrZVdzFv9Yb",
        "colab_type": "code",
        "colab": {
          "base_uri": "https://localhost:8080/",
          "height": 185
        },
        "outputId": "45ea9ccb-c87a-480f-dd05-94e06bde2cf1"
      },
      "source": [
        "df"
      ],
      "execution_count": 196,
      "outputs": [
        {
          "output_type": "execute_result",
          "data": {
            "text/html": [
              "<div>\n",
              "<style scoped>\n",
              "    .dataframe tbody tr th:only-of-type {\n",
              "        vertical-align: middle;\n",
              "    }\n",
              "\n",
              "    .dataframe tbody tr th {\n",
              "        vertical-align: top;\n",
              "    }\n",
              "\n",
              "    .dataframe thead th {\n",
              "        text-align: right;\n",
              "    }\n",
              "</style>\n",
              "<table border=\"1\" class=\"dataframe\">\n",
              "  <thead>\n",
              "    <tr style=\"text-align: right;\">\n",
              "      <th></th>\n",
              "      <th>title</th>\n",
              "      <th>adress</th>\n",
              "      <th>metro</th>\n",
              "      <th>apartments_area</th>\n",
              "      <th>living_apartmetn_area</th>\n",
              "      <th>kitche_area</th>\n",
              "      <th>apartments_level</th>\n",
              "      <th>year_of_construction</th>\n",
              "      <th>apartsments_text_subscription</th>\n",
              "      <th>appartments_features</th>\n",
              "      <th>additional_features</th>\n",
              "      <th>rent_price</th>\n",
              "      <th>rent_price_info</th>\n",
              "      <th>additional_payment_info</th>\n",
              "      <th>phones</th>\n",
              "      <th>agency_name</th>\n",
              "      <th>upload_d_t</th>\n",
              "    </tr>\n",
              "  </thead>\n",
              "  <tbody>\n",
              "    <tr>\n",
              "      <th>0</th>\n",
              "      <td>1-комн. апартаменты, 40 м²</td>\n",
              "      <td>Москва, ЦАО, р-н Басманный, Нижняя Красносельс...</td>\n",
              "      <td>[[[&lt;path d=\"M11.154 4L8 9.53 4.845 4 1.1 13.46...</td>\n",
              "      <td>40 м²</td>\n",
              "      <td>25 м²</td>\n",
              "      <td>5 м²</td>\n",
              "      <td>7 из 10</td>\n",
              "      <td>2015</td>\n",
              "      <td>Покажу оперативно! ЖК \"Трибека\", корпус Fulton...</td>\n",
              "      <td>[Холодильник, Посудомоечная машина, Стиральная...</td>\n",
              "      <td>[Апартаменты, 25 м², 1 совмещенный, Дизайнерский]</td>\n",
              "      <td>70 000 ₽/мес.</td>\n",
              "      <td>Комм. платежи включены (без счётчиков)</td>\n",
              "      <td>[Залог 70 000 ₽,  комиссия 50%,  предоплата за...</td>\n",
              "      <td>[, 7 999 922-64-29, 7 985 998-50-24]</td>\n",
              "      <td>ID 320568</td>\n",
              "      <td>[2020-01-11 23:40:23.500392, сегодня, 07:51]</td>\n",
              "    </tr>\n",
              "  </tbody>\n",
              "</table>\n",
              "</div>"
            ],
            "text/plain": [
              "                        title  ...                                    upload_d_t\n",
              "0  1-комн. апартаменты, 40 м²  ...  [2020-01-11 23:40:23.500392, сегодня, 07:51]\n",
              "\n",
              "[1 rows x 17 columns]"
            ]
          },
          "metadata": {
            "tags": []
          },
          "execution_count": 196
        }
      ]
    },
    {
      "cell_type": "code",
      "metadata": {
        "id": "sOWfGd-6wC88",
        "colab_type": "code",
        "colab": {
          "base_uri": "https://localhost:8080/",
          "height": 51
        },
        "outputId": "44be4407-513a-4e37-f75b-decab72f95e7"
      },
      "source": [
        "df['metro']"
      ],
      "execution_count": 197,
      "outputs": [
        {
          "output_type": "execute_result",
          "data": {
            "text/plain": [
              "0    [[[<path d=\"M11.154 4L8 9.53 4.845 4 1.1 13.46...\n",
              "Name: metro, dtype: object"
            ]
          },
          "metadata": {
            "tags": []
          },
          "execution_count": 197
        }
      ]
    }
  ]
}