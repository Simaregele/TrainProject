{
  "nbformat": 4,
  "nbformat_minor": 0,
  "metadata": {
    "colab": {
      "name": "CianHH data",
      "provenance": [],
      "authorship_tag": "ABX9TyMO5ku1VaMs9VE5SHPFcYjx",
      "include_colab_link": true
    },
    "kernelspec": {
      "name": "python3",
      "display_name": "Python 3"
    }
  },
  "cells": [
    {
      "cell_type": "markdown",
      "metadata": {
        "id": "view-in-github",
        "colab_type": "text"
      },
      "source": [
        "<a href=\"https://colab.research.google.com/github/Simaregele/TrainProject/blob/master/CianHH_data.ipynb\" target=\"_parent\"><img src=\"https://colab.research.google.com/assets/colab-badge.svg\" alt=\"Open In Colab\"/></a>"
      ]
    },
    {
      "cell_type": "code",
      "metadata": {
        "id": "J7qCIV3-KstL",
        "colab_type": "code",
        "colab": {}
      },
      "source": [
        "from bs4 import BeautifulSoup\n",
        "import requests\n",
        "import pandas as pd\n",
        "import matplotlib.pyplot as plt\n",
        "import numpy as np\n",
        "import time\n"
      ],
      "execution_count": 0,
      "outputs": []
    },
    {
      "cell_type": "code",
      "metadata": {
        "id": "PmbIzsgbwZwf",
        "colab_type": "code",
        "colab": {}
      },
      "source": [
        "# дата фрейм для хранения данных\n",
        "df = pd.DataFrame() \n"
      ],
      "execution_count": 0,
      "outputs": []
    },
    {
      "cell_type": "code",
      "metadata": {
        "id": "NHAWDAs9Mn_o",
        "colab_type": "code",
        "colab": {}
      },
      "source": [
        "new_page = requests.get(url_list[0]) # а тут мы берем первый же ЮРЛ"
      ],
      "execution_count": 0,
      "outputs": []
    },
    {
      "cell_type": "code",
      "metadata": {
        "id": "yjqPfNNNNi5_",
        "colab_type": "code",
        "colab": {}
      },
      "source": [
        "soup = BeautifulSoup(new_page.text, 'html.parser') "
      ],
      "execution_count": 0,
      "outputs": []
    },
    {
      "cell_type": "code",
      "metadata": {
        "id": "6KUSMQTfNnox",
        "colab_type": "code",
        "colab": {}
      },
      "source": [
        "card = soup.find_all(class_='_93444fe79c--card--_yguQ')[0]\n",
        "card_title = soup.find_all('a', class_=\"c6e8ba5398--header--1fV2A\")\n"
      ],
      "execution_count": 0,
      "outputs": []
    },
    {
      "cell_type": "code",
      "metadata": {
        "id": "fiLX9iK6WEF6",
        "colab_type": "code",
        "colab": {}
      },
      "source": [
        "# Не все работает\n",
        "def create_url(page_number):\n",
        "  # создает URL страницы\n",
        "  return \"https://www.cian.ru/cat.php?deal_type=rent&engine_version=2&offer_type=flat&p={}&region=1&room1=1&room9=1&type=4\".format(str(page_number))\n",
        "\n",
        "def get_navigation_last_num_element(element_number, url):\n",
        "  # возвращает последний элемент нав меню внизу страницы\n",
        "  new_page = requests.get(url)\n",
        "  soup = BeautifulSoup(new_page.text, 'html.parser')\n",
        "  return soup.find_all(class_=\"_93444fe79c--list-itemLink--3o7_6\")[element_number].get_text()\n",
        "\n",
        "\n",
        "def count_number_of_category_pages(url):\n",
        "  # считает кол-во страниц в выбранной категории, запускается на странице \n",
        "  while True:\n",
        "    pages_menu_last__numeric_element = get_navigation_last_num_element(-1, url)\n",
        "    if pages_menu_last__numeric_element.isdigit():\n",
        "      # проверяет какой последний элемент, если тот цифра то значит это индекс\n",
        "      # последней страницы\n",
        "      return pages_menu_last__numeric_element\n",
        "    else:\n",
        "      # в ином случае вытаскивает предпослежний элемент и использует в качестве\n",
        "      # индекса для генерация новой страницы на которой проверяется последний\n",
        "      # элемент\n",
        "      # может быть 1 \n",
        "      pages_menu_last__numeric_element = get_navigation_last_num_element(-2, url)\n",
        "      url = create_url(pages_menu_last__numeric_element)\n",
        "      inner_soup = BeautifulSoup(requests.get(url).text, 'html.parser') \n",
        "\n"
      ],
      "execution_count": 0,
      "outputs": []
    },
    {
      "cell_type": "code",
      "metadata": {
        "id": "WCq-WQsDMHDi",
        "colab_type": "code",
        "colab": {}
      },
      "source": [
        "# генерим странички по квартирам: студия или однушка, аренда на длительный срок москва\n",
        "# это список ЮРЛ страниц с карточками\n",
        "url_list = []\n",
        "for i in range(1, 54):\n",
        "  url = create_url(i)\n",
        "  print(url)\n",
        "  url_list.append(url)"
      ],
      "execution_count": 0,
      "outputs": []
    },
    {
      "cell_type": "code",
      "metadata": {
        "id": "LU8ko6SVNd-O",
        "colab_type": "code",
        "colab": {}
      },
      "source": [
        "# функция по генерированию URl с карточками объявлений\n",
        "DEAL_TYPE = 'rent' # sale - покупка, напишите в кавычках sale если хотите\n",
        "  # посомтреть покупку (пока не работает функция)\n",
        "PAGE_COUNT = 54 # надо ввести кол-во страниц сцществующих, на циане\n",
        "def url_list_generator(length):\n",
        "  url_list = []\n",
        "  page_number = 0\n",
        "  url = create_url(page_number)\n",
        "  for i in range(1,length):\n",
        "    url = create_url(page_number)\n",
        "    url_list.append(url)\n",
        "    page_number += 1\n",
        "  return url_list\n",
        "\n"
      ],
      "execution_count": 0,
      "outputs": []
    },
    {
      "cell_type": "code",
      "metadata": {
        "id": "67BaMjAoKvNW",
        "colab_type": "code",
        "colab": {}
      },
      "source": [
        "def create_soup(url):\n",
        "  # делаем СУУП :))\n",
        "  new_page = requests.get(url)\n",
        "  soup = BeautifulSoup(new_page.text, 'html.parser') \n",
        "  return soup\n",
        "\n",
        "def get_ads_from_categorial_page(soup):\n",
        "  # извлекает карточки\n",
        "  cards = soup.find_all(class_='_93444fe79c--card--_yguQ')\n",
        "  return cards\n"
      ],
      "execution_count": 0,
      "outputs": []
    },
    {
      "cell_type": "code",
      "metadata": {
        "id": "Yh9_ChBOKWKB",
        "colab_type": "code",
        "colab": {}
      },
      "source": [
        "# Берем ЮРЛ карточки\n",
        "def get_ads_url(card):\n",
        "  card_url = card.find('a', class_=\"c6e8ba5398--header--1fV2A\", href=True)['href']\n",
        "  return card_url"
      ],
      "execution_count": 0,
      "outputs": []
    },
    {
      "cell_type": "code",
      "metadata": {
        "id": "gh7oqfN9Cdsn",
        "colab_type": "code",
        "colab": {}
      },
      "source": [
        "# надо сделать функции для каждой \n",
        "\n",
        "def get_title(card_page):\n",
        "  # Наименование объявления тег H1\n",
        "  if card_page.find('h1', class_=\"a10a3f92e9--title--2Widg\"):\n",
        "    return card_page.find('h1', class_=\"a10a3f92e9--title--2Widg\").get_text()\n",
        "  return \"No title\"\n",
        "\n",
        "def get_adress(card_page):\n",
        "  if card_page.find('address', class_= \"a10a3f92e9--address--140Ec\"):\n",
        "    return card_page.find('address', class_= \"a10a3f92e9--address--140Ec\").get_text()\n",
        "  return \"No adress\"\n",
        "\n",
        "def get_metro_station():\n",
        "  # список станций\n",
        "  if card_page.find_all('li', class_=\"a10a3f92e9--underground--kONgx\"):\n",
        "    metro_station = card_page.find_all('li', class_=\"a10a3f92e9--underground--kONgx\")\n",
        "    list_of_stations = []\n",
        "    for i in metro_station:\n",
        "      list_of_stations.append(i.get_text())\n",
        "    return list_of_stations\n",
        "  return \"No stations\"\n",
        "\n",
        "def apartments_info():\n",
        "  if card_page.find_all('div', class_=\"a10a3f92e9--info-text--2uhvD\"):\n",
        "    partments_info = card_page.find_all('div', class_=\"a10a3f92e9--info-text--2uhvD\")\n",
        "    all_apartmenrs_info = []\n",
        "    for q in apartments_info:\n",
        "      all_apartmenrs_info.append(q.get_text())\n",
        "    return all_apartmenrs_info\n",
        "  return \"No info\"\n",
        "\n",
        "def text_subscription():\n",
        "  if card_page.find('p', class_=\"a10a3f92e9--description-text--1_Lup\"):    \n",
        "    return card_page.find('p', class_=\"a10a3f92e9--description-text--1_Lup\").get_text()\n",
        "  return \"Wow\"\n",
        "\n",
        "\n",
        "\n",
        "def get_all_data_from_ad_page_and_save_to_df(card_page, df):\n",
        "  # вытаскиваем значения из подающейся на вход card_page и сохраняеем все в DF,\n",
        "  # в месте где добавляется время добавления объявления так-же закидывается\n",
        "  # время парсинга инфы\n",
        "\n",
        "\n",
        "  # дополнительная инфа, есть ли стиралк, микроволновка и т.д.\n",
        "  if card_page.find('ul', class_=\"a10a3f92e9--container--L-EIV\"):\n",
        "    additional_appartments_info = card_page.find('ul', class_=\"a10a3f92e9--container--L-EIV\")\n",
        "    appartments_features = []\n",
        "    for i in additional_appartments_info:\n",
        "      appartments_features.append(i.get_text())\n",
        "    df['appartments_features'] = [str(appartments_features)]\n",
        "\n",
        "  # еще дополнительные фичи, тут вроде площадь жидая совмещенный ли санузел и т.д.\n",
        "  additional_features = []\n",
        "  for i in card_page.find_all(class_=\"a10a3f92e9--value--3Ftu5\"):\n",
        "    additional_features.append(i.get_text())\n",
        "  df['additional_features'] = [str(additional_features)]\n",
        "\n",
        "  # стоимость аренды\n",
        "  rent_price = card_page.find(class_=\"a10a3f92e9--price_value--1iPpd\").get_text().replace(u'\\xa0', ' ')\n",
        "  df['rent_price'] = [rent_price]\n",
        "  # информация по стоимости аренды\n",
        "  rent_price_info = card_page.find(class_=\"a10a3f92e9--more_price_rent---5hwY\").get_text().replace(u'\\xa0', ' ')\n",
        "  df['rent_price_info'] = rent_price_info\n",
        "  # дополнительная информация по оплае\n",
        "  additional_payment_info = card_page.find(class_=\"a10a3f92e9--desc\"\n",
        "  \"ription--2xRVn\").get_text().replace(u'\\xa0', ' ').split(\",\")\n",
        "  df['additional_payment_info'] = [additional_payment_info]\n",
        "  # номера телефонов!!\n",
        "  phones = card_page.find(class_=\"a10a3f92e9--container--35iPF\").get_text().replace('Показать телефон', '').replace('Написать сообщение', '').split('+')\n",
        "  df['phones'] = [phones] \n",
        "  # название агентства\n",
        "  if card_page.find('h2', class_=\"a10a3f92e9--title--2gUWg\"):\n",
        "    agency_name = card_page.find('h2', class_=\"a10a3f92e9--title--2gUWg\").get_text()\n",
        "    df['agency_name'] = [agency_name]\n",
        "  elif card_page.find(class_=\"a10a3f92e9--id--LA2Ew\"):\n",
        "    owner_name = card_page.find(class_=\"a10a3f92e9--id--LA2Ew\").get_text()\n",
        "    df['owner_name'] = [owner_name]\n",
        "\n",
        "  \n",
        "  # дата загрузки объявления, кол-во просмотров\n",
        "  import datetime\n",
        "  upload_d_t = card_page.find(class_=\"a10a3f92e9--container--3nJ0d\").get_text()\n",
        "  view_statistics = card_page.find(class_=\"a10a3f92e9--link--1t8n1 a10a3f92e9--link--2mJJk\").get_text()\n",
        "  if \"сегодня\" in upload_d_t:\n",
        "    date = str(datetime.datetime.today())\n",
        "  elif 'вчера' in upload_d_t:\n",
        "    date = str(datetime.datetime.today())\n",
        "  upload_d_t = [date, upload_d_t]\n",
        "  df['upload_d_t'] = [upload_d_t]\n",
        "  df['view_statistics'] = [view_statistics]\n",
        "  \n",
        "  return df\n"
      ],
      "execution_count": 0,
      "outputs": []
    },
    {
      "cell_type": "code",
      "metadata": {
        "id": "gSdrET3lK0bg",
        "colab_type": "code",
        "colab": {}
      },
      "source": [
        "def get_page_from_ad_url(ad_url):\n",
        "  # переходим на страниwу и парсим все данные со страницы\n",
        "  get_page = requests.get(ad_url)\n",
        "  ad_page = BeautifulSoup(get_page.text, 'html.parser')\n",
        "  return ad_page"
      ],
      "execution_count": 0,
      "outputs": []
    },
    {
      "cell_type": "code",
      "metadata": {
        "id": "D9dFbnXkI76s",
        "colab_type": "code",
        "colab": {}
      },
      "source": [
        "df = pd.DataFrame() "
      ],
      "execution_count": 0,
      "outputs": []
    },
    {
      "cell_type": "code",
      "metadata": {
        "id": "PPRI1kRDGSVG",
        "colab_type": "code",
        "colab": {
          "base_uri": "https://localhost:8080/",
          "height": 1000
        },
        "outputId": "70a96da7-9fa5-4ba7-819b-cd0981d93402"
      },
      "source": [
        "# парсим пробегаемся по сгенерированным страницам, собираем карточки, переходим на карточку, собираем\n",
        "# данне с карточки сохраняем в DF добавляем к большому DF\n",
        "page_list = url_list_generator(54)\n",
        "for i in page_list:\n",
        "  # у нас есть все юрл страничек, теперь для каждой страницы нам надо извлечь список карточек\n",
        "  soup = create_soup(i)\n",
        "  ads_url = get_ads_from_categorial_page(soup) # функция\n",
        "  last_row = df.shape[0]\n",
        "  for idx, val in enumerate(ads_url):\n",
        "    # добавим сна, чтобы не блочил сервак\n",
        "    time.sleep(0.09)\n",
        "    ad_url = get_ads_url(val)\n",
        "    ad_page = get_page_from_ad_url(ad_url)    \n",
        "    index = last_row + idx\n",
        "    print(index, ad_url)\n",
        "    get_all_data_from_ad_page_and_save_to_df(ad_page, df)\n",
        "    \n",
        "  \n"
      ],
      "execution_count": 29,
      "outputs": [
        {
          "output_type": "stream",
          "text": [
            "0 https://www.cian.ru/rent/flat/224019372/\n",
            "1 https://www.cian.ru/rent/flat/223605492/\n",
            "2 https://www.cian.ru/rent/flat/224322197/\n",
            "3 https://www.cian.ru/rent/flat/224079646/\n",
            "4 https://www.cian.ru/rent/flat/223916683/\n",
            "5 https://www.cian.ru/rent/flat/223916225/\n",
            "6 https://www.cian.ru/rent/flat/196157919/\n",
            "7 https://www.cian.ru/rent/flat/224266597/\n",
            "8 https://www.cian.ru/rent/flat/223549505/\n",
            "9 https://www.cian.ru/rent/flat/221662984/\n",
            "10 https://www.cian.ru/rent/flat/190049857/\n",
            "11 https://www.cian.ru/rent/flat/223721765/\n",
            "12 https://www.cian.ru/rent/flat/222531150/\n",
            "13 https://www.cian.ru/rent/flat/224213145/\n",
            "14 https://www.cian.ru/rent/flat/224124691/\n",
            "15 https://www.cian.ru/rent/flat/209528336/\n",
            "16 https://www.cian.ru/rent/flat/223365281/\n",
            "17 https://www.cian.ru/rent/flat/223317443/\n",
            "18 https://www.cian.ru/rent/flat/224258430/\n",
            "19 https://www.cian.ru/rent/flat/224176391/\n",
            "20 https://www.cian.ru/rent/flat/224274262/\n",
            "21 https://www.cian.ru/rent/flat/224291239/\n",
            "22 https://www.cian.ru/rent/flat/224347306/\n",
            "23 https://www.cian.ru/rent/flat/224240922/\n",
            "24 https://www.cian.ru/rent/flat/224326111/\n",
            "25 https://www.cian.ru/rent/flat/218292531/\n",
            "26 https://www.cian.ru/rent/flat/215192778/\n",
            "27 https://www.cian.ru/rent/flat/223780841/\n",
            "1 https://www.cian.ru/rent/flat/224019372/\n",
            "2 https://www.cian.ru/rent/flat/223605492/\n",
            "3 https://www.cian.ru/rent/flat/224322197/\n",
            "4 https://www.cian.ru/rent/flat/224079646/\n",
            "5 https://www.cian.ru/rent/flat/223916683/\n",
            "6 https://www.cian.ru/rent/flat/223916225/\n",
            "7 https://www.cian.ru/rent/flat/196157919/\n",
            "8 https://www.cian.ru/rent/flat/224266597/\n",
            "9 https://www.cian.ru/rent/flat/223549505/\n",
            "10 https://www.cian.ru/rent/flat/221662984/\n",
            "11 https://www.cian.ru/rent/flat/190049857/\n",
            "12 https://www.cian.ru/rent/flat/223721765/\n",
            "13 https://www.cian.ru/rent/flat/222531150/\n",
            "14 https://www.cian.ru/rent/flat/224213145/\n",
            "15 https://www.cian.ru/rent/flat/224124691/\n",
            "16 https://www.cian.ru/rent/flat/209528336/\n",
            "17 https://www.cian.ru/rent/flat/223365281/\n",
            "18 https://www.cian.ru/rent/flat/223317443/\n",
            "19 https://www.cian.ru/rent/flat/224258430/\n",
            "20 https://www.cian.ru/rent/flat/224176391/\n",
            "21 https://www.cian.ru/rent/flat/224274262/\n",
            "22 https://www.cian.ru/rent/flat/224291239/\n",
            "23 https://www.cian.ru/rent/flat/224347306/\n",
            "24 https://www.cian.ru/rent/flat/224240922/\n",
            "25 https://www.cian.ru/rent/flat/224326111/\n",
            "26 https://www.cian.ru/rent/flat/218292531/\n",
            "27 https://www.cian.ru/rent/flat/215192778/\n",
            "28 https://www.cian.ru/rent/flat/223780841/\n",
            "1 https://www.cian.ru/rent/flat/224350868/\n",
            "2 https://www.cian.ru/rent/flat/223141834/\n",
            "3 https://www.cian.ru/rent/flat/224294803/\n",
            "4 https://www.cian.ru/rent/flat/222889121/\n",
            "5 https://www.cian.ru/rent/flat/224109340/\n",
            "6 https://www.cian.ru/rent/flat/222758512/\n",
            "7 https://www.cian.ru/rent/flat/223961203/\n",
            "8 https://www.cian.ru/rent/flat/224296276/\n",
            "9 https://www.cian.ru/rent/flat/224294752/\n",
            "10 https://www.cian.ru/rent/flat/223342733/\n",
            "11 https://www.cian.ru/rent/flat/208916234/\n",
            "12 https://www.cian.ru/rent/flat/224146257/\n",
            "13 https://www.cian.ru/rent/flat/224234686/\n",
            "14 https://www.cian.ru/rent/flat/215733904/\n",
            "15 https://www.cian.ru/rent/flat/222703653/\n",
            "16 https://www.cian.ru/rent/flat/224266442/\n",
            "17 https://www.cian.ru/rent/flat/223997394/\n",
            "18 https://www.cian.ru/rent/flat/224321727/\n",
            "19 https://www.cian.ru/rent/flat/224312137/\n",
            "20 https://www.cian.ru/rent/flat/224266816/\n",
            "21 https://www.cian.ru/rent/flat/224257700/\n",
            "22 https://www.cian.ru/rent/flat/224230240/\n",
            "23 https://www.cian.ru/rent/flat/223622960/\n",
            "24 https://www.cian.ru/rent/flat/224295753/\n",
            "25 https://www.cian.ru/rent/flat/222030403/\n",
            "26 https://www.cian.ru/rent/flat/222029174/\n",
            "27 https://www.cian.ru/rent/flat/224123482/\n",
            "28 https://www.cian.ru/rent/flat/224289609/\n",
            "1 https://www.cian.ru/rent/flat/224266520/\n",
            "2 https://www.cian.ru/rent/flat/224285782/\n",
            "3 https://www.cian.ru/rent/flat/224140801/\n",
            "4 https://www.cian.ru/rent/flat/224142115/\n",
            "5 https://www.cian.ru/rent/flat/157116998/\n",
            "6 https://www.cian.ru/rent/flat/223487527/\n",
            "7 https://www.cian.ru/rent/flat/223218117/\n",
            "8 https://www.cian.ru/rent/flat/214045953/\n"
          ],
          "name": "stdout"
        },
        {
          "output_type": "error",
          "ename": "TypeError",
          "evalue": "ignored",
          "traceback": [
            "\u001b[0;31m---------------------------------------------------------------------------\u001b[0m",
            "\u001b[0;31mTypeError\u001b[0m                                 Traceback (most recent call last)",
            "\u001b[0;32m<ipython-input-29-c7464492db44>\u001b[0m in \u001b[0;36m<module>\u001b[0;34m()\u001b[0m\n\u001b[1;32m     12\u001b[0m     \u001b[0mindex\u001b[0m \u001b[0;34m=\u001b[0m \u001b[0mlast_row\u001b[0m \u001b[0;34m+\u001b[0m \u001b[0midx\u001b[0m\u001b[0;34m\u001b[0m\u001b[0;34m\u001b[0m\u001b[0m\n\u001b[1;32m     13\u001b[0m     \u001b[0mprint\u001b[0m\u001b[0;34m(\u001b[0m\u001b[0mindex\u001b[0m\u001b[0;34m,\u001b[0m \u001b[0mad_url\u001b[0m\u001b[0;34m)\u001b[0m\u001b[0;34m\u001b[0m\u001b[0;34m\u001b[0m\u001b[0m\n\u001b[0;32m---> 14\u001b[0;31m     \u001b[0mget_all_data_from_ad_page_and_save_to_df\u001b[0m\u001b[0;34m(\u001b[0m\u001b[0mad_page\u001b[0m\u001b[0;34m,\u001b[0m \u001b[0mdf\u001b[0m\u001b[0;34m)\u001b[0m\u001b[0;34m\u001b[0m\u001b[0;34m\u001b[0m\u001b[0m\n\u001b[0m\u001b[1;32m     15\u001b[0m \u001b[0;34m\u001b[0m\u001b[0m\n\u001b[1;32m     16\u001b[0m \u001b[0;34m\u001b[0m\u001b[0m\n",
            "\u001b[0;32m<ipython-input-27-e7361e6ba6a1>\u001b[0m in \u001b[0;36mget_all_data_from_ad_page_and_save_to_df\u001b[0;34m(card_page, df)\u001b[0m\n\u001b[1;32m     28\u001b[0m   \u001b[0madditional_appartments_info\u001b[0m \u001b[0;34m=\u001b[0m \u001b[0mcard_page\u001b[0m\u001b[0;34m.\u001b[0m\u001b[0mfind\u001b[0m\u001b[0;34m(\u001b[0m\u001b[0;34m'ul'\u001b[0m\u001b[0;34m,\u001b[0m \u001b[0mclass_\u001b[0m\u001b[0;34m=\u001b[0m\u001b[0;34m\"a10a3f92e9--container--L-EIV\"\u001b[0m\u001b[0;34m)\u001b[0m\u001b[0;34m\u001b[0m\u001b[0;34m\u001b[0m\u001b[0m\n\u001b[1;32m     29\u001b[0m   \u001b[0mappartments_features\u001b[0m \u001b[0;34m=\u001b[0m \u001b[0;34m[\u001b[0m\u001b[0;34m]\u001b[0m\u001b[0;34m\u001b[0m\u001b[0;34m\u001b[0m\u001b[0m\n\u001b[0;32m---> 30\u001b[0;31m   \u001b[0;32mfor\u001b[0m \u001b[0mi\u001b[0m \u001b[0;32min\u001b[0m \u001b[0madditional_appartments_info\u001b[0m\u001b[0;34m:\u001b[0m\u001b[0;34m\u001b[0m\u001b[0;34m\u001b[0m\u001b[0m\n\u001b[0m\u001b[1;32m     31\u001b[0m     \u001b[0mappartments_features\u001b[0m\u001b[0;34m.\u001b[0m\u001b[0mappend\u001b[0m\u001b[0;34m(\u001b[0m\u001b[0mi\u001b[0m\u001b[0;34m.\u001b[0m\u001b[0mget_text\u001b[0m\u001b[0;34m(\u001b[0m\u001b[0;34m)\u001b[0m\u001b[0;34m)\u001b[0m\u001b[0;34m\u001b[0m\u001b[0;34m\u001b[0m\u001b[0m\n\u001b[1;32m     32\u001b[0m   \u001b[0mdf\u001b[0m\u001b[0;34m[\u001b[0m\u001b[0;34m'appartments_features'\u001b[0m\u001b[0;34m]\u001b[0m \u001b[0;34m=\u001b[0m \u001b[0;34m[\u001b[0m\u001b[0mstr\u001b[0m\u001b[0;34m(\u001b[0m\u001b[0mappartments_features\u001b[0m\u001b[0;34m)\u001b[0m\u001b[0;34m]\u001b[0m\u001b[0;34m\u001b[0m\u001b[0;34m\u001b[0m\u001b[0m\n",
            "\u001b[0;31mTypeError\u001b[0m: 'NoneType' object is not iterable"
          ]
        }
      ]
    },
    {
      "cell_type": "code",
      "metadata": {
        "id": "apancWvCJBsB",
        "colab_type": "code",
        "colab": {
          "base_uri": "https://localhost:8080/",
          "height": 185
        },
        "outputId": "c03b0ee4-ac33-4ec1-ff5d-2879c31d0206"
      },
      "source": [
        "df"
      ],
      "execution_count": 30,
      "outputs": [
        {
          "output_type": "execute_result",
          "data": {
            "text/html": [
              "<div>\n",
              "<style scoped>\n",
              "    .dataframe tbody tr th:only-of-type {\n",
              "        vertical-align: middle;\n",
              "    }\n",
              "\n",
              "    .dataframe tbody tr th {\n",
              "        vertical-align: top;\n",
              "    }\n",
              "\n",
              "    .dataframe thead th {\n",
              "        text-align: right;\n",
              "    }\n",
              "</style>\n",
              "<table border=\"1\" class=\"dataframe\">\n",
              "  <thead>\n",
              "    <tr style=\"text-align: right;\">\n",
              "      <th></th>\n",
              "      <th>title</th>\n",
              "      <th>adress</th>\n",
              "      <th>metro</th>\n",
              "      <th>all_apartmenrs_info</th>\n",
              "      <th>apartsments_text_subscription</th>\n",
              "      <th>appartments_features</th>\n",
              "      <th>additional_features</th>\n",
              "      <th>rent_price</th>\n",
              "      <th>rent_price_info</th>\n",
              "      <th>additional_payment_info</th>\n",
              "      <th>phones</th>\n",
              "      <th>agency_name</th>\n",
              "      <th>upload_d_t</th>\n",
              "      <th>view_statistics</th>\n",
              "      <th>owner_name</th>\n",
              "    </tr>\n",
              "  </thead>\n",
              "  <tbody>\n",
              "    <tr>\n",
              "      <th>0</th>\n",
              "      <td>1-комн. квартира, 70 м²</td>\n",
              "      <td>Москва, ЦАО, р-н Хамовники, ул. Плющиха, 37На ...</td>\n",
              "      <td>['Смоленская ⋅  13 мин. пешком', 'Киевская ⋅  ...</td>\n",
              "      <td>[70 м², 50 м², 10 м², 5 из 5]</td>\n",
              "      <td>ID: 13518 БЕЗ КОМИССИИ ДЛЯ КЛИЕНТА!!! КОЛЛЕГАМ...</td>\n",
              "      <td>['Холодильник', 'Посудомоечная машина', 'Стира...</td>\n",
              "      <td>['Апартаменты', '30 м²', '1 совмещенный', '1 б...</td>\n",
              "      <td>119 000 ₽/мес.</td>\n",
              "      <td>Комм. платежи включены (без счётчиков)</td>\n",
              "      <td>[Залог 119 000 ₽,  без комиссии,  предоплата з...</td>\n",
              "      <td>[, 7 966 300-78-39]</td>\n",
              "      <td>MONROYAL GLOBAL MANSION</td>\n",
              "      <td>[2020-01-13 17:56:05.865112, сегодня, 14:20]</td>\n",
              "      <td>869 просмотров, 26 за сегодня</td>\n",
              "      <td>ID 47162865</td>\n",
              "    </tr>\n",
              "  </tbody>\n",
              "</table>\n",
              "</div>"
            ],
            "text/plain": [
              "                     title  ...   owner_name\n",
              "0  1-комн. квартира, 70 м²  ...  ID 47162865\n",
              "\n",
              "[1 rows x 15 columns]"
            ]
          },
          "metadata": {
            "tags": []
          },
          "execution_count": 30
        }
      ]
    },
    {
      "cell_type": "code",
      "metadata": {
        "id": "l4hudEhtNGOw",
        "colab_type": "code",
        "colab": {}
      },
      "source": [
        "#извлек название и адрес\n",
        "title = card_page.find('h1', class_=\"a10a3f92e9--title--2Widg\").get_text()\n",
        "adress = card_page.find('address', class_= \"a10a3f92e9--address--140Ec\").get_text()\n",
        "df['title'] = [title]\n",
        "df['adress'] = [adress] "
      ],
      "execution_count": 0,
      "outputs": []
    },
    {
      "cell_type": "code",
      "metadata": {
        "id": "K1mFJueC1CX5",
        "colab_type": "code",
        "colab": {}
      },
      "source": [
        "# станции метро\n",
        "\n",
        "metro_station = card_page.find_all('li', class_=\"a10a3f92e9--underground--kONgx\")\n",
        "m_stations = []\n",
        "for i in metro_station:\n",
        "  m_stations.append(i.get_text())\n",
        "\n",
        "df['metro'] = [m_stations]\n"
      ],
      "execution_count": 0,
      "outputs": []
    },
    {
      "cell_type": "code",
      "metadata": {
        "id": "dGpSniSl1EKK",
        "colab_type": "code",
        "colab": {}
      },
      "source": [
        "m_stations"
      ],
      "execution_count": 0,
      "outputs": []
    },
    {
      "cell_type": "code",
      "metadata": {
        "id": "DIPBXlllD0el",
        "colab_type": "code",
        "colab": {}
      },
      "source": [
        "# остальная инфа \n",
        "apartments_info = card_page.find_all('div', class_=\"a10a3f92e9--info-text--2uhvD\")\n",
        "apartments_area = apartments_info[0].get_text()\n",
        "living_apartmetn_area = apartments_info[1].get_text()\n",
        "kitche_area = apartments_info[2].get_text()\n",
        "apartments_level = apartments_info[3].get_text()\n",
        "year_of_construction = apartments_info[4].get_text()\n",
        "apartsments_text_subscription = card_page.find('p', class_=\"a10a3f92e9--description-text--1_Lup\").get_text()\n",
        "df['apartments_area'] = [apartments_area]\n",
        "df['living_apartmetn_area'] = [living_apartmetn_area]\n",
        "df['kitche_area'] = [kitche_area]\n",
        "df['apartments_level'] = [apartments_level]\n",
        "df['year_of_construction'] = [year_of_construction]\n",
        "df['apartsments_text_subscription'] = [apartsments_text_subscription]"
      ],
      "execution_count": 0,
      "outputs": []
    },
    {
      "cell_type": "code",
      "metadata": {
        "id": "wTzgK-BXFroU",
        "colab_type": "code",
        "colab": {}
      },
      "source": [
        "apartsments_text_subscription"
      ],
      "execution_count": 0,
      "outputs": []
    },
    {
      "cell_type": "code",
      "metadata": {
        "id": "9Gyj1dXD0_3i",
        "colab_type": "code",
        "colab": {}
      },
      "source": [
        "additional_appartments_info = card_page.find('ul', class_=\"a10a3f92e9--container--L-EIV\")\n",
        "appartments_features = []\n",
        "for i in additional_appartments_info:\n",
        "  appartments_features.append(i.get_text())\n",
        "\n",
        "df['appartments_features'] = [appartments_features]\n"
      ],
      "execution_count": 0,
      "outputs": []
    },
    {
      "cell_type": "code",
      "metadata": {
        "id": "EqFc4SvaH5Ox",
        "colab_type": "code",
        "colab": {}
      },
      "source": [
        "# всякие штуки типо тип квартиры, площадь, какой санузел, тип ремонта\n",
        "additional_features = []\n",
        "for i in card_page.find_all(class_=\"a10a3f92e9--value--3Ftu5\"):\n",
        "  additional_features.append(i.get_text())\n",
        "\n",
        "df['additional_features'] = [additional_features]"
      ],
      "execution_count": 0,
      "outputs": []
    },
    {
      "cell_type": "code",
      "metadata": {
        "id": "-uRUyLCLeKC9",
        "colab_type": "code",
        "colab": {}
      },
      "source": [
        "# цена аренды\n",
        "rent_price = card_page.find(class_=\"a10a3f92e9--price_value--1iPpd\").get_text().replace(u'\\xa0', ' ')"
      ],
      "execution_count": 0,
      "outputs": []
    },
    {
      "cell_type": "code",
      "metadata": {
        "id": "ZabXk29LejOl",
        "colab_type": "code",
        "colab": {}
      },
      "source": [
        "df['rent_price'] = [rent_price]"
      ],
      "execution_count": 0,
      "outputs": []
    },
    {
      "cell_type": "code",
      "metadata": {
        "id": "n5rUNhP4fx_i",
        "colab_type": "code",
        "colab": {}
      },
      "source": [
        "rent_price_info = card_page.find(class_=\"a10a3f92e9--more_price_rent---5hwY\").get_text().replace(u'\\xa0', ' ')"
      ],
      "execution_count": 0,
      "outputs": []
    },
    {
      "cell_type": "code",
      "metadata": {
        "id": "9CRwZ6Xbhl8h",
        "colab_type": "code",
        "colab": {}
      },
      "source": [
        "df['rent_price_info'] = rent_price_info"
      ],
      "execution_count": 0,
      "outputs": []
    },
    {
      "cell_type": "code",
      "metadata": {
        "id": "syw9hgzUiDLF",
        "colab_type": "code",
        "colab": {}
      },
      "source": [
        "additional_payment_info = card_page.find(class_=\"a10a3f92e9--description--2xRVn\").get_text().replace(u'\\xa0', ' ').split(\",\")"
      ],
      "execution_count": 0,
      "outputs": []
    },
    {
      "cell_type": "code",
      "metadata": {
        "id": "IcPFIIt5iMLy",
        "colab_type": "code",
        "colab": {}
      },
      "source": [
        "df['additional_payment_info'] = [additional_payment_info]"
      ],
      "execution_count": 0,
      "outputs": []
    },
    {
      "cell_type": "code",
      "metadata": {
        "id": "aqIo84dFkcfy",
        "colab_type": "code",
        "colab": {}
      },
      "source": [
        "# телефоны\n",
        "phones = card_page.find(class_=\"a10a3f92e9--container--35iPF\").get_text().replace('Показать телефон', '').replace('Написать сообщение', '').split('+')"
      ],
      "execution_count": 0,
      "outputs": []
    },
    {
      "cell_type": "code",
      "metadata": {
        "id": "tgMSmev0krM1",
        "colab_type": "code",
        "colab": {}
      },
      "source": [
        "df['phones'] = [phones]"
      ],
      "execution_count": 0,
      "outputs": []
    },
    {
      "cell_type": "code",
      "metadata": {
        "id": "TtoDcIVtnfxv",
        "colab_type": "code",
        "colab": {}
      },
      "source": [
        "# название агентства\n",
        "agency_name = card_page.find('h2', class_=\"a10a3f92e9--title--2gUWg\").get_text()"
      ],
      "execution_count": 0,
      "outputs": []
    },
    {
      "cell_type": "code",
      "metadata": {
        "id": "mOms1Vzqnw44",
        "colab_type": "code",
        "colab": {}
      },
      "source": [
        "df['agency_name'] = [agency_name]"
      ],
      "execution_count": 0,
      "outputs": []
    },
    {
      "cell_type": "code",
      "metadata": {
        "id": "4tEWOBSCrBA5",
        "colab_type": "code",
        "colab": {}
      },
      "source": [
        "import datetime"
      ],
      "execution_count": 0,
      "outputs": []
    },
    {
      "cell_type": "code",
      "metadata": {
        "id": "Zq3fC4Ntn-ws",
        "colab_type": "code",
        "colab": {}
      },
      "source": [
        "upload_d_t = card_page.find(class_=\"a10a3f92e9--container--3nJ0d\").get_text()\n",
        "view_statistics = card_page.find(class_=\"a10a3f92e9--link--1t8n1 a10a3f92e9--link--2mJJk\").get_text()\n",
        "if \"сегодня\" in upload_d_t:\n",
        "  date = str(datetime.datetime.today())\n",
        "elif 'вчера' in upload_d_t:\n",
        "  date = str(datetime.datetime.today())\n",
        "upload_d_t = [date, upload_d_t]\n",
        "df['upload_d_t'] = [upload_d_t]"
      ],
      "execution_count": 0,
      "outputs": []
    },
    {
      "cell_type": "code",
      "metadata": {
        "id": "2NaE5RMno0WT",
        "colab_type": "code",
        "colab": {}
      },
      "source": [
        ""
      ],
      "execution_count": 0,
      "outputs": []
    }
  ]
}